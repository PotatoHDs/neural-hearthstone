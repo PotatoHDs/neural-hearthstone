{
 "cells": [
  {
   "cell_type": "markdown",
   "metadata": {},
   "source": [
    "please don't beat me please don't beat me let me live"
   ]
  },
  {
   "cell_type": "code",
   "execution_count": 1,
   "metadata": {},
   "outputs": [],
   "source": [
    "import random\n",
    "import numpy as np\n",
    "import pickle\n",
    "\n",
    "from fireplace import cards\n",
    "from fireplace.card import Card\n",
    "from fireplace.exceptions import GameOver, InvalidAction\n",
    "from fireplace.game import Game\n",
    "from fireplace.player import Player\n",
    "from fireplace.utils import random_draft\n",
    "from hearthstone.enums import CardClass, CardType, State\n",
    "from fireplace.exceptions import GameOver"
   ]
  },
  {
   "cell_type": "code",
   "execution_count": 2,
   "metadata": {},
   "outputs": [],
   "source": [
    "import torch\n",
    "import torch.nn as nn\n",
    "import torch.backends.cudnn as cudnn\n",
    "import torch.optim as optim\n",
    "import torch.utils.data\n",
    "import torchvision.datasets as dset\n",
    "import torchvision.transforms as transforms\n",
    "import torchvision.utils as vutils\n",
    "import numpy as np\n",
    "import matplotlib.pyplot as plt"
   ]
  },
  {
   "cell_type": "code",
   "execution_count": 3,
   "metadata": {},
   "outputs": [
    {
     "name": "stderr",
     "output_type": "stream",
     "text": [
      "[fireplace.__init__]: Initializing card database\n",
      "[fireplace.__init__]: Merged 13764 cards\n"
     ]
    }
   ],
   "source": [
    "cards.db.initialize()"
   ]
  },
  {
   "cell_type": "code",
   "execution_count": 4,
   "metadata": {},
   "outputs": [],
   "source": [
    "n_in = 100\n",
    "n_out = 21*16\n",
    "\n",
    "num_epochs = 50\n",
    "batch_size = 128\n",
    "lr = 1e-4\n",
    "\n",
    "ngpu = 1\n",
    "device = torch.device(\"cuda:0\" if (torch.cuda.is_available() and ngpu > 0) else \"cpu\")"
   ]
  },
  {
   "cell_type": "code",
   "execution_count": 5,
   "metadata": {},
   "outputs": [],
   "source": [
    "class NN(nn.Module):\n",
    "    def __init__(self, ngpu):\n",
    "        super(NN, self).__init__()\n",
    "        self.ngpu = ngpu\n",
    "        self.dense1 = nn.Linear(n_in, 64, bias=False)\n",
    "        self.dense2 = nn.Linear(64, 32, bias=False)\n",
    "        self.dense3 = nn.Linear(32, n_out, bias=False)\n",
    "\n",
    "    def forward(self, input):\n",
    "        x = F.relu(self.dense1(x))\n",
    "        x = F.relu(self.dense2(x))\n",
    "        x = F.Tanh(self.dense3(x))\n",
    "        return x   "
   ]
  },
  {
   "cell_type": "code",
   "execution_count": 6,
   "metadata": {},
   "outputs": [
    {
     "name": "stdout",
     "output_type": "stream",
     "text": [
      "NN(\n",
      "  (dense1): Linear(in_features=100, out_features=64, bias=False)\n",
      "  (dense2): Linear(in_features=64, out_features=32, bias=False)\n",
      "  (dense3): Linear(in_features=32, out_features=336, bias=False)\n",
      ")\n"
     ]
    }
   ],
   "source": [
    "net = NN(ngpu).to(device)\n",
    "\n",
    "if (device.type == 'cuda') and (ngpu > 1):\n",
    "    net = nn.DataParallel(netG, list(range(ngpu)))\n",
    "\n",
    "print(net)"
   ]
  },
  {
   "cell_type": "code",
   "execution_count": 7,
   "metadata": {},
   "outputs": [],
   "source": [
    "criterion = nn.MSELoss()\n",
    "optimizer = optim.Adam(net.parameters(), lr=lr)"
   ]
  },
  {
   "cell_type": "code",
   "execution_count": 8,
   "metadata": {},
   "outputs": [],
   "source": [
    "def InitGame():\n",
    "    c1 = CardClass(random.randint(2, 10))\n",
    "    c2 = CardClass(random.randint(2, 10))\n",
    "    deck1 = random_draft(c1)\n",
    "    deck2 = random_draft(c2)\n",
    "    \n",
    "    players = []\n",
    "    players.append(Player(\"Player1\", deck1, c1.default_hero))\n",
    "    players.append(Player(\"Player2\", deck2, c2.default_hero))\n",
    "    game = Game(players = players)\n",
    "    game.start()\n",
    "\n",
    "    return game"
   ]
  },
  {
   "cell_type": "code",
   "execution_count": 9,
   "metadata": {},
   "outputs": [],
   "source": [
    "def MulliganChoice(cards):\n",
    "    return random.sample(cards, random.randint(0, 3))"
   ]
  },
  {
   "cell_type": "code",
   "execution_count": 10,
   "metadata": {},
   "outputs": [
    {
     "name": "stderr",
     "output_type": "stream",
     "text": [
      "[fireplace.entity]: Setting up game Game(players=[Player(name='Player1', hero=None), Player(name='Player2', hero=None)])\n",
      "[fireplace.entity]: Tossing the coin... Player1 wins!\n",
      "[fireplace.actions]: Player(name='Player1', hero=<Hero ('Anduin Wrynn')>) triggering <TargetedAction: Summon(<Summon.CARD>=<HeroPower ('Lesser Heal')>)> targeting [Player(name='Player1', hero=<Hero ('Anduin Wrynn')>)]\n",
      "[fireplace.actions]: Player1 summons [<HeroPower ('Lesser Heal')>]\n",
      "[fireplace.entity]: Empty stack, refreshing auras and processing deaths\n",
      "[fireplace.actions]: Player(name='Player1', hero=<Hero ('Anduin Wrynn')>) triggering <TargetedAction: Summon(<Summon.CARD>=<Hero ('Anduin Wrynn')>)> targeting [Player(name='Player1', hero=<Hero ('Anduin Wrynn')>)]\n",
      "[fireplace.actions]: Player1 summons [<Hero ('Anduin Wrynn')>]\n",
      "[fireplace.entity]: Empty stack, refreshing auras and processing deaths\n",
      "[fireplace.entity]: Player(name='Player1', hero=<Hero ('Anduin Wrynn')>) shuffles their deck\n",
      "[fireplace.card]: <Minion ('Burgly Bully')> moves from <Zone.DECK: 2> to <Zone.HAND: 3>\n",
      "[fireplace.card]: <Minion ('Armor Vendor')> moves from <Zone.DECK: 2> to <Zone.HAND: 3>\n",
      "[fireplace.card]: <Minion ('Keywarden Ivory')> moves from <Zone.DECK: 2> to <Zone.HAND: 3>\n",
      "[fireplace.actions]: Player(name='Player2', hero=<Hero ('Uther Lightbringer')>) triggering <TargetedAction: Summon(<Summon.CARD>=<HeroPower ('Reinforce')>)> targeting [Player(name='Player2', hero=<Hero ('Uther Lightbringer')>)]\n",
      "[fireplace.actions]: Player2 summons [<HeroPower ('Reinforce')>]\n",
      "[fireplace.entity]: Empty stack, refreshing auras and processing deaths\n",
      "[fireplace.actions]: Player(name='Player2', hero=<Hero ('Uther Lightbringer')>) triggering <TargetedAction: Summon(<Summon.CARD>=<Hero ('Uther Lightbringer')>)> targeting [Player(name='Player2', hero=<Hero ('Uther Lightbringer')>)]\n",
      "[fireplace.actions]: Player2 summons [<Hero ('Uther Lightbringer')>]\n",
      "[fireplace.entity]: Empty stack, refreshing auras and processing deaths\n",
      "[fireplace.entity]: Player(name='Player2', hero=<Hero ('Uther Lightbringer')>) shuffles their deck\n",
      "[fireplace.card]: <Minion ('Eydis Darkbane')> moves from <Zone.DECK: 2> to <Zone.HAND: 3>\n",
      "[fireplace.card]: <Spell ('Lay on Hands')> moves from <Zone.DECK: 2> to <Zone.HAND: 3>\n",
      "[fireplace.card]: <Minion ('Weasel Tunneler')> moves from <Zone.DECK: 2> to <Zone.HAND: 3>\n",
      "[fireplace.card]: <Minion ('Transfer Student')> moves from <Zone.DECK: 2> to <Zone.HAND: 3>\n",
      "[fireplace.entity]: Entering mulligan phase\n",
      "[fireplace.actions]: Player(name='Player1', hero=<Hero ('Anduin Wrynn')>) triggering <TargetedAction: Draw()> targeting [Player(name='Player1', hero=<Hero ('Anduin Wrynn')>)]\n",
      "[fireplace.entity]: Player1 draws <Minion ('Frozen Crusher')>\n",
      "[fireplace.card]: <Minion ('Frozen Crusher')> moves from <Zone.DECK: 2> to <Zone.HAND: 3>\n",
      "[fireplace.actions]: Player(name='Player1', hero=<Hero ('Anduin Wrynn')>) triggering <TargetedAction: Draw()> targeting [Player(name='Player1', hero=<Hero ('Anduin Wrynn')>)]\n",
      "[fireplace.entity]: Player1 draws <Minion ('Ancient Watcher')>\n",
      "[fireplace.card]: <Minion ('Ancient Watcher')> moves from <Zone.DECK: 2> to <Zone.HAND: 3>\n",
      "[fireplace.actions]: Player(name='Player1', hero=<Hero ('Anduin Wrynn')>) triggering <TargetedAction: Draw()> targeting [Player(name='Player1', hero=<Hero ('Anduin Wrynn')>)]\n",
      "[fireplace.entity]: Player1 draws <Minion ('Barrens Blacksmith')>\n",
      "[fireplace.card]: <Minion ('Barrens Blacksmith')> moves from <Zone.DECK: 2> to <Zone.HAND: 3>\n",
      "[fireplace.entity]: Empty stack, refreshing auras and processing deaths\n",
      "[fireplace.card]: <Minion ('Burgly Bully')> moves from <Zone.HAND: 3> to <Zone.DECK: 2>\n",
      "[fireplace.card]: <Minion ('Keywarden Ivory')> moves from <Zone.HAND: 3> to <Zone.DECK: 2>\n",
      "[fireplace.card]: <Minion ('Armor Vendor')> moves from <Zone.HAND: 3> to <Zone.DECK: 2>\n",
      "[fireplace.entity]: Player(name='Player1', hero=<Hero ('Anduin Wrynn')>) shuffles their deck\n",
      "[fireplace.actions]: Player(name='Player2', hero=<Hero ('Uther Lightbringer')>) triggering <TargetedAction: Draw()> targeting [Player(name='Player2', hero=<Hero ('Uther Lightbringer')>)]\n",
      "[fireplace.entity]: Player2 draws <Minion ('The Glass Knight')>\n",
      "[fireplace.card]: <Minion ('The Glass Knight')> moves from <Zone.DECK: 2> to <Zone.HAND: 3>\n",
      "[fireplace.actions]: Player(name='Player2', hero=<Hero ('Uther Lightbringer')>) triggering <TargetedAction: Draw()> targeting [Player(name='Player2', hero=<Hero ('Uther Lightbringer')>)]\n",
      "[fireplace.entity]: Player2 draws <Minion ('Proud Defender')>\n",
      "[fireplace.card]: <Minion ('Proud Defender')> moves from <Zone.DECK: 2> to <Zone.HAND: 3>\n",
      "[fireplace.actions]: Player(name='Player2', hero=<Hero ('Uther Lightbringer')>) triggering <TargetedAction: Draw()> targeting [Player(name='Player2', hero=<Hero ('Uther Lightbringer')>)]\n",
      "[fireplace.entity]: Player2 draws <Minion ('Spiritsinger Umbra')>\n",
      "[fireplace.card]: <Minion ('Spiritsinger Umbra')> moves from <Zone.DECK: 2> to <Zone.HAND: 3>\n",
      "[fireplace.entity]: Empty stack, refreshing auras and processing deaths\n",
      "[fireplace.card]: <Spell ('Lay on Hands')> moves from <Zone.HAND: 3> to <Zone.DECK: 2>\n",
      "[fireplace.card]: <Minion ('Transfer Student')> moves from <Zone.HAND: 3> to <Zone.DECK: 2>\n",
      "[fireplace.card]: <Minion ('Weasel Tunneler')> moves from <Zone.HAND: 3> to <Zone.DECK: 2>\n",
      "[fireplace.entity]: Player(name='Player2', hero=<Hero ('Uther Lightbringer')>) shuffles their deck\n",
      "[fireplace.entity]: Player2 gets The Coin (GAME_005)\n",
      "[fireplace.actions]: Player(name='Player2', hero=<Hero ('Uther Lightbringer')>) triggering <TargetedAction: Give(<Give.CARD>='GAME_005')> targeting [Player(name='Player2', hero=<Hero ('Uther Lightbringer')>)]\n",
      "[fireplace.actions]: Giving [<Spell ('The Coin')>] to Player2\n",
      "[fireplace.card]: <Spell ('The Coin')> moves from <Zone.SETASIDE: 6> to <Zone.HAND: 3>\n",
      "[fireplace.entity]: Empty stack, refreshing auras and processing deaths\n",
      "[fireplace.entity]: Player1 begins turn 1\n",
      "[fireplace.entity]: Player1 is now at 1 mana crystals\n",
      "[fireplace.actions]: Player(name='Player1', hero=<Hero ('Anduin Wrynn')>) triggering <TargetedAction: Draw()> targeting [Player(name='Player1', hero=<Hero ('Anduin Wrynn')>)]\n",
      "[fireplace.entity]: Player1 draws <Minion ('Reckless Experimenter')>\n",
      "[fireplace.card]: <Minion ('Reckless Experimenter')> moves from <Zone.DECK: 2> to <Zone.HAND: 3>\n",
      "[fireplace.entity]: Empty stack, refreshing auras and processing deaths\n"
     ]
    }
   ],
   "source": [
    "newgame = InitGame()\n",
    "\n",
    "for player in newgame.players:\n",
    "    cards_to_mulligan = MulliganChoice(player.choice.cards)\n",
    "    player.choice.choose(*cards_to_mulligan)"
   ]
  },
  {
   "cell_type": "code",
   "execution_count": 13,
   "metadata": {},
   "outputs": [
    {
     "data": {
      "text/plain": [
       "array([[0., 0., 0., 0., 0., 0., 0., 0., 0., 0., 0., 0., 0., 0., 0., 0.],\n",
       "       [0., 0., 0., 0., 0., 0., 0., 0., 0., 0., 0., 0., 0., 0., 0., 0.],\n",
       "       [0., 0., 0., 0., 0., 0., 0., 0., 0., 0., 0., 0., 0., 0., 0., 0.],\n",
       "       [0., 0., 0., 0., 0., 0., 0., 0., 0., 0., 0., 0., 0., 0., 0., 0.],\n",
       "       [0., 0., 0., 0., 0., 0., 0., 0., 0., 0., 0., 0., 0., 0., 0., 0.],\n",
       "       [0., 0., 0., 0., 0., 0., 0., 0., 0., 0., 0., 0., 0., 0., 0., 0.],\n",
       "       [0., 0., 0., 0., 0., 0., 0., 0., 0., 0., 0., 0., 0., 0., 0., 0.],\n",
       "       [0., 0., 0., 0., 0., 0., 0., 0., 0., 0., 0., 0., 0., 0., 0., 0.],\n",
       "       [0., 0., 0., 0., 0., 0., 0., 0., 0., 0., 0., 0., 0., 0., 0., 0.],\n",
       "       [0., 0., 0., 0., 0., 0., 0., 0., 0., 0., 0., 0., 0., 0., 0., 0.],\n",
       "       [0., 0., 0., 0., 0., 0., 0., 0., 0., 0., 0., 0., 0., 0., 0., 0.],\n",
       "       [0., 0., 0., 0., 0., 0., 0., 0., 0., 0., 0., 0., 0., 0., 0., 0.],\n",
       "       [0., 0., 0., 0., 0., 0., 0., 0., 0., 0., 0., 0., 0., 0., 0., 0.],\n",
       "       [0., 0., 0., 0., 0., 0., 0., 0., 0., 0., 0., 0., 0., 0., 0., 0.],\n",
       "       [0., 0., 0., 0., 0., 0., 0., 0., 0., 0., 0., 0., 0., 0., 0., 0.],\n",
       "       [0., 0., 0., 0., 0., 0., 0., 0., 0., 0., 0., 0., 0., 0., 0., 0.],\n",
       "       [0., 0., 0., 0., 0., 0., 0., 0., 0., 0., 0., 0., 0., 0., 0., 0.],\n",
       "       [0., 0., 0., 0., 0., 0., 0., 0., 0., 0., 0., 0., 0., 0., 0., 0.],\n",
       "       [0., 0., 0., 0., 0., 0., 0., 0., 0., 0., 0., 0., 0., 0., 0., 0.],\n",
       "       [1., 0., 0., 0., 0., 0., 0., 0., 0., 0., 0., 0., 0., 0., 0., 0.],\n",
       "       [0., 0., 0., 0., 0., 0., 0., 0., 0., 0., 0., 0., 0., 0., 0., 0.]])"
      ]
     },
     "execution_count": 13,
     "metadata": {},
     "output_type": "execute_result"
    }
   ],
   "source": [
    "moves = getValidMoves(newgame)\n",
    "moves"
   ]
  },
  {
   "cell_type": "code",
   "execution_count": 14,
   "metadata": {},
   "outputs": [
    {
     "name": "stdout",
     "output_type": "stream",
     "text": [
      "Player1 : [<Minion ('Frozen Crusher')>, <Minion ('Ancient Watcher')>, <Minion ('Barrens Blacksmith')>, <Minion ('Reckless Experimenter')>]\n",
      "Player2 : [<Minion ('Eydis Darkbane')>, <Minion ('The Glass Knight')>, <Minion ('Proud Defender')>, <Minion ('Spiritsinger Umbra')>, <Spell ('The Coin')>]\n"
     ]
    }
   ],
   "source": [
    "for player in newgame.players:\n",
    "    print(player, \":\", player.hand)"
   ]
  },
  {
   "cell_type": "code",
   "execution_count": 15,
   "metadata": {},
   "outputs": [
    {
     "name": "stdout",
     "output_type": "stream",
     "text": [
      "Player1\n",
      "State.RUNNING\n",
      "1\n",
      "[False, False, 6]\n",
      "[False, False, 2]\n",
      "[False, False, 5]\n",
      "[False, False, 5]\n",
      "30\n",
      "30\n"
     ]
    },
    {
     "data": {
      "text/plain": [
       "[]"
      ]
     },
     "execution_count": 15,
     "metadata": {},
     "output_type": "execute_result"
    }
   ],
   "source": [
    "print(newgame.current_player)\n",
    "print(newgame.state)\n",
    "print(newgame.current_player.mana)\n",
    "for card in newgame.current_player.hand:\n",
    "    print([card.is_playable(),card.requires_target(),card.data.cost])\n",
    "\n",
    "print(newgame.players[0].hero.health)\n",
    "print(newgame.players[1].hero.health)\n",
    "\n",
    "newgame.current_player.field"
   ]
  },
  {
   "cell_type": "code",
   "execution_count": null,
   "metadata": {},
   "outputs": [],
   "source": [
    "a = [19,0]\n",
    "getAction(a, newgame)"
   ]
  },
  {
   "cell_type": "code",
   "execution_count": 16,
   "metadata": {},
   "outputs": [
    {
     "data": {
      "text/plain": [
       "False"
      ]
     },
     "execution_count": 16,
     "metadata": {},
     "output_type": "execute_result"
    }
   ],
   "source": [
    "newgame.ended"
   ]
  },
  {
   "cell_type": "code",
   "execution_count": 25,
   "metadata": {},
   "outputs": [],
   "source": [
    "def getNextState(player, action, game):\n",
    "    try:\n",
    "        DoAction(action, game)\n",
    "    except GameOver:\n",
    "        raise GameOver\n",
    "\n",
    "    next_state = getState(game)\n",
    "    \n",
    "    return next_state, player\n",
    "\n",
    "def getValidMoves(game):\n",
    "    actions = np.zeros((21,16))\n",
    "    player = game.current_player\n",
    "    if player.choice:\n",
    "        for index, card in enumerate(player.choice.cards):\n",
    "            actions[20, index] = 1\n",
    "\n",
    "    else:\n",
    "        for index, card in enumerate(player.hand):\n",
    "            if card.is_playable():\n",
    "                if card.requires_target():\n",
    "                    for target, card in enumerate(card.targets):\n",
    "                        actions[index, target] = 1\n",
    "                else:\n",
    "                    actions[index] = 1\n",
    "        for position, minion in enumerate(player.field):\n",
    "            if minion.can_attack():\n",
    "                for target, card in enumerate(minion.attack_targets):\n",
    "                    actions[position+10, target] = 1\n",
    "        if player.hero.power.is_usable():\n",
    "            if player.hero.power.requires_target():\n",
    "                for target, card in enumerate(player.hero.power.targets):\n",
    "                    actions[17, target] = 1\n",
    "            else:\n",
    "                actions[17] = 1\n",
    "        if player.hero.can_attack():\n",
    "            for target, card in enumerate(player.hero.attack_targets):\n",
    "                actions[18, target] = 1\n",
    "        actions[19,0] = 1\n",
    "    return actions\n",
    "\n",
    "def getAction(a, game):\n",
    "    player = game.current_player\n",
    "    if not game.ended:\n",
    "        try:\n",
    "            if 0 <= a[0] <= 9:\n",
    "                if player.hand[a[0]].requires_target():\n",
    "                    player.hand[a[0]].play(player.hand[a[0]].targets[a[1]])\n",
    "                else:\n",
    "                    player.hand[a[0]].play()\n",
    "            elif 10 <= a[0] <= 16:\n",
    "                player.field[a[0]-10].attack(player.field[a[0]-10].attack_targets[a[1]])\n",
    "            elif a[0] == 17:\n",
    "                if player.hero.power.requires_target():\n",
    "                        player.hero.power.use(player.hero.power.play_targets[a[1]])\n",
    "                else:\n",
    "                    player.hero.power.use()\n",
    "            elif a[0] == 18:\n",
    "                player.hero.attack(player.hero.attack_targets[a[1]])\n",
    "            elif a[0] == 19:\n",
    "                player.game.end_turn()\n",
    "            elif a[0] == 20 and not player.choice:\n",
    "                player.game.end_turn()\n",
    "            elif player.choice:\n",
    "                player.choice.choose(player.choice.cards[a[1]])\n",
    "            else:\n",
    "                print(\"Not an appropriate action\")\n",
    "        except InvalidAction:\n",
    "            print(\"InvalidAction\")\n",
    "            player.game.end_turn()\n",
    "        except IndexError:\n",
    "            try:\n",
    "                player.game.end_turn()\n",
    "            except GameOver:\n",
    "                pass\n",
    "        except GameOver:\n",
    "            pass\n",
    "\n",
    "#calculating reward\n",
    "def EndState(game):\n",
    "    p1 = game.players[0]\n",
    "\n",
    "    if p1.playstate == 4:\n",
    "        return 1\n",
    "    elif p1.playstate == 5:\n",
    "        return -1\n",
    "    elif p1.playstate == 6:\n",
    "        return 1e-4\n",
    "    elif game.turn > 180:\n",
    "        game.ended = True\n",
    "        return 1e-4\n",
    "    return 0\n",
    "\n",
    "#getting state for network\n",
    "def getState(game):\n",
    "    s = np.zeros((34,16), dtype = 'int32')\n",
    "\n",
    "    p1 = game.current_player\n",
    "    p2 = p1.opponent\n",
    "\n",
    "    s[0] = p1.hero.health\n",
    "    s[1] = p2.hero.health\n",
    "    s[2] = p1.max_mana\n",
    "    s[3] = p2.max_mana\n",
    "    s[4] = p1.mana\n",
    "    \n",
    "    #hero player1\n",
    "    i = 5\n",
    "    s[i,0] = p1.hero.card_class\n",
    "    s[i,1] = p1.hero.power.is_usable()*1\n",
    "    s[i,2] = p1.hero.power.cost             #add effect\n",
    "    if p1.weapon is None:\n",
    "        s[i,2:5] = 0\n",
    "    else:\n",
    "        s[i,3] = 1\n",
    "        s[i,4] = p1.weapon.damage\n",
    "        s[i,5] = p1.weapon.durability     #add effect, attack, deathrattle\n",
    "        \n",
    "    #hero player2\n",
    "    i = 6\n",
    "    s[i,0] = p2.hero.card_class\n",
    "    s[i,1] = p2.hero.power.is_usable()*1\n",
    "    s[i,2] = p2.hero.power.cost            #add effect\n",
    "    if p2.weapon is None:\n",
    "        s[i,2:5] = 0\n",
    "    else:\n",
    "        s[i,3] = 1\n",
    "        s[i,4] = p2.weapon.damage\n",
    "        s[i,5] = p2.weapon.durability  #add effect, attack, deathrattle\n",
    "    \n",
    "    i = 7\n",
    "    hand = len(p1.hand)\n",
    "    s[i] = hand\n",
    "    s[i + 1] = len(p2.hand)\n",
    "    \n",
    "    #hand\n",
    "    i = 9\n",
    "    for j in range(0, 10):\n",
    "        if j < hand:\n",
    "            s[i + j, 0] = 1\n",
    "            s[i + j, 1] = p1.hand[j].cost\n",
    "            s[i + j, 2] = p1.hand[j].card_class\n",
    "            s[i + j, 3] = p1.hand[j].type\n",
    "            if (p1.hand[j].type == 4):\n",
    "                s[i + j, 4] = p1.hand[j].race \n",
    "                s[i + j, 5] = p1.hand[j].atk\n",
    "                s[i + j, 6] = p1.hand[j].max_health\n",
    "                s[i + j, 7] = p1.hand[j].divine_shield*1 \n",
    "                s[i + j, 8] = p1.hand[j].has_deathrattle*1 \n",
    "                s[i + j, 9] = p1.hand[j].has_battlecry*1\n",
    "                s[i + j, 10] = p1.hand[j].taunt*1 \n",
    "        \n",
    "    #field\n",
    "    i = 19\n",
    "    f1 = len(p1.field)\n",
    "    for j in range(0, 7):\n",
    "        if j < f1:\n",
    "            s[i + j, 0] = 1\n",
    "            s[i + j, 1] = p1.field[j].health\n",
    "            s[i + j, 2] = p1.field[j].card_class\n",
    "            s[i + j, 3] = p1.field[j].can_attack()*1\n",
    "            \n",
    "            s[i + j, 4] = p1.field[j].race \n",
    "            s[i + j, 5] = p1.field[j].atk\n",
    "            s[i + j, 6] = p1.field[j].max_health\n",
    "            s[i + j, 7] = p1.field[j].divine_shield*1 \n",
    "            s[i + j, 8] = p1.field[j].has_deathrattle*1\n",
    "            s[i + j, 9] = p1.field[j].has_battlecry*1\n",
    "            s[i + j, 10] = p1.field[j].taunt*1 \n",
    "            s[i + j, 11] = p1.field[j].stealthed*1\n",
    "            s[i + j, 12] = p1.field[j].silenced*1\n",
    "\n",
    "    i = 26        \n",
    "    f2 = len(p2.field)\n",
    "    for j in range(0, 7):\n",
    "        if j < f2:\n",
    "            s[i + j, 0] = 1\n",
    "            s[i + j, 1] = p2.field[j].health\n",
    "            s[i + j, 2] = p2.field[j].card_class\n",
    "            s[i + j, 3] = p2.field[j].can_attack()*1\n",
    "            \n",
    "            s[i + j, 4] = p2.field[j].race \n",
    "            s[i + j, 5] = p2.field[j].atk\n",
    "            s[i + j, 6] = p2.field[j].max_health\n",
    "            s[i + j, 7] = p2.field[j].divine_shield*1 \n",
    "            s[i + j, 8] = p2.field[j].has_deathrattle*1\n",
    "            s[i + j, 9] = p2.field[j].has_battlecry*1\n",
    "            s[i + j, 10] = p2.field[j].taunt*1 \n",
    "            s[i + j, 11] = p2.field[j].stealthed*1\n",
    "            s[i + j, 12] = p2.field[j].silenced*1\n",
    "        i += 1\n",
    "        \n",
    "    return s"
   ]
  },
  {
   "cell_type": "code",
   "execution_count": 26,
   "metadata": {},
   "outputs": [],
   "source": [
    "s = getState(newgame)"
   ]
  },
  {
   "cell_type": "code",
   "execution_count": 27,
   "metadata": {},
   "outputs": [
    {
     "data": {
      "text/plain": [
       "array([[30, 30, 30, 30, 30, 30, 30, 30, 30, 30, 30, 30, 30, 30, 30, 30],\n",
       "       [30, 30, 30, 30, 30, 30, 30, 30, 30, 30, 30, 30, 30, 30, 30, 30],\n",
       "       [ 1,  1,  1,  1,  1,  1,  1,  1,  1,  1,  1,  1,  1,  1,  1,  1],\n",
       "       [ 0,  0,  0,  0,  0,  0,  0,  0,  0,  0,  0,  0,  0,  0,  0,  0],\n",
       "       [ 1,  1,  1,  1,  1,  1,  1,  1,  1,  1,  1,  1,  1,  1,  1,  1],\n",
       "       [ 6,  0,  0,  0,  0,  0,  0,  0,  0,  0,  0,  0,  0,  0,  0,  0],\n",
       "       [ 5,  0,  0,  0,  0,  0,  0,  0,  0,  0,  0,  0,  0,  0,  0,  0],\n",
       "       [ 4,  4,  4,  4,  4,  4,  4,  4,  4,  4,  4,  4,  4,  4,  4,  4],\n",
       "       [ 5,  5,  5,  5,  5,  5,  5,  5,  5,  5,  5,  5,  5,  5,  5,  5],\n",
       "       [ 1,  6, 12,  4, 18,  8,  8,  0,  0,  0,  0,  0,  0,  0,  0,  0],\n",
       "       [ 1,  2, 12,  4,  0,  4,  5,  0,  0,  0,  0,  0,  0,  0,  0,  0],\n",
       "       [ 1,  5, 12,  4,  0,  3,  5,  0,  0,  0,  0,  0,  0,  0,  0,  0],\n",
       "       [ 1,  5,  6,  4,  0,  4,  6,  0,  0,  0,  0,  0,  0,  0,  0,  0],\n",
       "       [ 0,  0,  0,  0,  0,  0,  0,  0,  0,  0,  0,  0,  0,  0,  0,  0],\n",
       "       [ 0,  0,  0,  0,  0,  0,  0,  0,  0,  0,  0,  0,  0,  0,  0,  0],\n",
       "       [ 0,  0,  0,  0,  0,  0,  0,  0,  0,  0,  0,  0,  0,  0,  0,  0],\n",
       "       [ 0,  0,  0,  0,  0,  0,  0,  0,  0,  0,  0,  0,  0,  0,  0,  0],\n",
       "       [ 0,  0,  0,  0,  0,  0,  0,  0,  0,  0,  0,  0,  0,  0,  0,  0],\n",
       "       [ 0,  0,  0,  0,  0,  0,  0,  0,  0,  0,  0,  0,  0,  0,  0,  0],\n",
       "       [ 0,  0,  0,  0,  0,  0,  0,  0,  0,  0,  0,  0,  0,  0,  0,  0],\n",
       "       [ 0,  0,  0,  0,  0,  0,  0,  0,  0,  0,  0,  0,  0,  0,  0,  0],\n",
       "       [ 0,  0,  0,  0,  0,  0,  0,  0,  0,  0,  0,  0,  0,  0,  0,  0],\n",
       "       [ 0,  0,  0,  0,  0,  0,  0,  0,  0,  0,  0,  0,  0,  0,  0,  0],\n",
       "       [ 0,  0,  0,  0,  0,  0,  0,  0,  0,  0,  0,  0,  0,  0,  0,  0],\n",
       "       [ 0,  0,  0,  0,  0,  0,  0,  0,  0,  0,  0,  0,  0,  0,  0,  0],\n",
       "       [ 0,  0,  0,  0,  0,  0,  0,  0,  0,  0,  0,  0,  0,  0,  0,  0],\n",
       "       [ 0,  0,  0,  0,  0,  0,  0,  0,  0,  0,  0,  0,  0,  0,  0,  0],\n",
       "       [ 0,  0,  0,  0,  0,  0,  0,  0,  0,  0,  0,  0,  0,  0,  0,  0],\n",
       "       [ 0,  0,  0,  0,  0,  0,  0,  0,  0,  0,  0,  0,  0,  0,  0,  0],\n",
       "       [ 0,  0,  0,  0,  0,  0,  0,  0,  0,  0,  0,  0,  0,  0,  0,  0],\n",
       "       [ 0,  0,  0,  0,  0,  0,  0,  0,  0,  0,  0,  0,  0,  0,  0,  0],\n",
       "       [ 0,  0,  0,  0,  0,  0,  0,  0,  0,  0,  0,  0,  0,  0,  0,  0],\n",
       "       [ 0,  0,  0,  0,  0,  0,  0,  0,  0,  0,  0,  0,  0,  0,  0,  0],\n",
       "       [ 0,  0,  0,  0,  0,  0,  0,  0,  0,  0,  0,  0,  0,  0,  0,  0]],\n",
       "      dtype=int32)"
      ]
     },
     "execution_count": 27,
     "metadata": {},
     "output_type": "execute_result"
    }
   ],
   "source": [
    "s"
   ]
  },
  {
   "cell_type": "code",
   "execution_count": 54,
   "metadata": {},
   "outputs": [
    {
     "data": {
      "text/plain": [
       "4"
      ]
     },
     "execution_count": 54,
     "metadata": {},
     "output_type": "execute_result"
    }
   ],
   "source": [
    "card = Card(\"BAR_026\")\n",
    "\n",
    "card.max_health"
   ]
  },
  {
   "cell_type": "code",
   "execution_count": 32,
   "metadata": {},
   "outputs": [
    {
     "data": {
      "text/plain": [
       "['__class__',\n",
       " '__delattr__',\n",
       " '__dict__',\n",
       " '__dir__',\n",
       " '__doc__',\n",
       " '__eq__',\n",
       " '__format__',\n",
       " '__ge__',\n",
       " '__getattribute__',\n",
       " '__gt__',\n",
       " '__hash__',\n",
       " '__init__',\n",
       " '__init_subclass__',\n",
       " '__le__',\n",
       " '__lt__',\n",
       " '__module__',\n",
       " '__ne__',\n",
       " '__new__',\n",
       " '__reduce__',\n",
       " '__reduce_ex__',\n",
       " '__repr__',\n",
       " '__setattr__',\n",
       " '__sizeof__',\n",
       " '__str__',\n",
       " '__subclasshook__',\n",
       " '__weakref__',\n",
       " 'adapt',\n",
       " 'appear_functionally_dead',\n",
       " 'armor',\n",
       " 'artist',\n",
       " 'atk',\n",
       " 'autoattack',\n",
       " 'avenge',\n",
       " 'battlecry',\n",
       " 'can_summon_maxplusone_minion',\n",
       " 'cant_be_attacked',\n",
       " 'cant_be_fatigued',\n",
       " 'card_class',\n",
       " 'card_id',\n",
       " 'card_set',\n",
       " 'choose_cards',\n",
       " 'classes',\n",
       " 'collectible',\n",
       " 'corrupt',\n",
       " 'cost',\n",
       " 'craftable',\n",
       " 'crafting_costs',\n",
       " 'dbf_id',\n",
       " 'deathrattle',\n",
       " 'description',\n",
       " 'discover',\n",
       " 'disenchant_costs',\n",
       " 'divine_shield',\n",
       " 'dormant',\n",
       " 'double_spelldamage_bonus',\n",
       " 'durability',\n",
       " 'echo',\n",
       " 'elite',\n",
       " 'entourage',\n",
       " 'evil_glow',\n",
       " 'faction',\n",
       " 'flavortext',\n",
       " 'forgetful',\n",
       " 'from_xml',\n",
       " 'ghostly',\n",
       " 'grimy_goons',\n",
       " 'health',\n",
       " 'hero_power',\n",
       " 'heropower_damage',\n",
       " 'hide_cost',\n",
       " 'hide_health',\n",
       " 'hide_stats',\n",
       " 'how_to_earn',\n",
       " 'how_to_earn_golden',\n",
       " 'id',\n",
       " 'immune',\n",
       " 'inspire',\n",
       " 'jade_golem',\n",
       " 'jade_lotus',\n",
       " 'kabal',\n",
       " 'lifesteal',\n",
       " 'locale',\n",
       " 'localization_notes',\n",
       " 'magnetic',\n",
       " 'master_power',\n",
       " 'max_count_in_deck',\n",
       " 'multi_class_group',\n",
       " 'multiple_classes',\n",
       " 'name',\n",
       " 'one_turn_effect',\n",
       " 'outcast',\n",
       " 'overkill',\n",
       " 'overload',\n",
       " 'playtext',\n",
       " 'poisonous',\n",
       " 'powers',\n",
       " 'quest',\n",
       " 'quest_progress_total',\n",
       " 'quest_reward',\n",
       " 'race',\n",
       " 'rarity',\n",
       " 'reborn',\n",
       " 'referenced_tags',\n",
       " 'requirements',\n",
       " 'ritual',\n",
       " 'rush',\n",
       " 'script_data_num_1',\n",
       " 'scripts',\n",
       " 'secret',\n",
       " 'sidequest',\n",
       " 'spare_part',\n",
       " 'spell_damage',\n",
       " 'spell_school',\n",
       " 'spellburst',\n",
       " 'start_of_game',\n",
       " 'strings',\n",
       " 'tags',\n",
       " 'targeting_arrow_text',\n",
       " 'taunt',\n",
       " 'to_xml',\n",
       " 'topdeck',\n",
       " 'tradeable',\n",
       " 'triggered_power_history_info',\n",
       " 'twinspell',\n",
       " 'type',\n",
       " 'untouchable',\n",
       " 'version',\n",
       " 'windfury']"
      ]
     },
     "execution_count": 32,
     "metadata": {},
     "output_type": "execute_result"
    }
   ],
   "source": [
    "dir(card.data)"
   ]
  },
  {
   "cell_type": "code",
   "execution_count": 29,
   "metadata": {
    "scrolled": true
   },
   "outputs": [
    {
     "data": {
      "text/plain": [
       "['BAR_026',\n",
       " 'BOT_021',\n",
       " 'BT_136',\n",
       " 'BT_730',\n",
       " 'CFM_653',\n",
       " 'CFM_815',\n",
       " 'CS2_125',\n",
       " 'CS2_127',\n",
       " 'DMF_081',\n",
       " 'DMF_184',\n",
       " 'DMF_247',\n",
       " 'EX1_301',\n",
       " 'EX1_390',\n",
       " 'FP1_009',\n",
       " 'GIL_207',\n",
       " 'GVG_097',\n",
       " 'GVG_098',\n",
       " 'ICC_081',\n",
       " 'ICC_808',\n",
       " 'LOE_022',\n",
       " 'OG_327',\n",
       " 'TRL_551',\n",
       " 'ULD_250',\n",
       " 'UNG_072',\n",
       " 'UNG_928',\n",
       " 'UNG_938',\n",
       " 'VAN_CS2_125',\n",
       " 'VAN_CS2_127',\n",
       " 'VAN_EX1_301',\n",
       " 'VAN_EX1_390',\n",
       " 'WC_004',\n",
       " 'YOP_025']"
      ]
     },
     "execution_count": 29,
     "metadata": {},
     "output_type": "execute_result"
    }
   ],
   "source": [
    "minions = cards.filter(\n",
    "    collectible=True,\n",
    "    cost=3,\n",
    "    type=CardType.MINION\n",
    ")\n",
    "new = []\n",
    "for x in minions:\n",
    "    if Card(x).taunt == True:\n",
    "        new.append(x)\n",
    "new"
   ]
  },
  {
   "cell_type": "code",
   "execution_count": null,
   "metadata": {},
   "outputs": [],
   "source": []
  }
 ],
 "metadata": {
  "kernelspec": {
   "display_name": "Python 3",
   "language": "python",
   "name": "python3"
  },
  "language_info": {
   "codemirror_mode": {
    "name": "ipython",
    "version": 3
   },
   "file_extension": ".py",
   "mimetype": "text/x-python",
   "name": "python",
   "nbconvert_exporter": "python",
   "pygments_lexer": "ipython3",
   "version": "3.8.3"
  }
 },
 "nbformat": 4,
 "nbformat_minor": 4
}
