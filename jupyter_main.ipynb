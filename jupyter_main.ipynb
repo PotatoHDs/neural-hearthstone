{
 "cells": [
  {
   "cell_type": "code",
   "execution_count": 1,
   "id": "38170b2b",
   "metadata": {
    "pycharm": {
     "name": "#%%\n"
    }
   },
   "outputs": [
    {
     "name": "stdout",
     "output_type": "stream",
     "text": [
      "PATH TO CARDS = ui\\cards\n"
     ]
    }
   ],
   "source": [
    "# import json\n",
    "#\n",
    "# import rel\n",
    "# import websocket\n",
    "from PyQt6.QtGui import QFontDatabase\n",
    "# from hearthstone.enums import BlockType, Zone, Step, PlayState\n",
    "\n",
    "from Coach import Coach\n",
    "from Game import GameImp as Game\n",
    "from NN import NNetWrapper as nn\n",
    "# from fireplace.actions import Attack, Summon, Hit, EndTurn, Discover, Choice, MulliganChoice, Play, GenericChoice, \\\n",
    "#     BeginTurn, Death, TargetedAction, Activate\n",
    "# from fireplace.card import HeroPower, Hero, Character\n",
    "# from fireplace.exceptions import GameOver\n",
    "# from fireplace.managers import BaseObserver\n",
    "# from fireplace.player import Player\n",
    "from ui.ui import MainWindow\n",
    "from PyQt6.QtWidgets import *\n",
    "import sys\n",
    "import re\n",
    "import os\n",
    "import time\n",
    "import math\n",
    "\n",
    "import torch\n",
    "import torch.utils.data\n",
    "from observers import UiObserver, HsObserver"
   ]
  },
  {
   "cell_type": "code",
   "execution_count": 2,
   "id": "3c335c95",
   "metadata": {
    "pycharm": {
     "name": "#%%\n"
    }
   },
   "outputs": [],
   "source": [
    "class Args:\n",
    "    def __init__(self):\n",
    "        self.n_in = 34 * 16\n",
    "        self.n_out = 21 * 18\n",
    "\n",
    "        self.epochs = 15\n",
    "        self.batch_size = 128\n",
    "        self.lr = 1e-4\n",
    "\n",
    "        self.arenaCompare = 10\n",
    "        self.numIters = 30\n",
    "        self.numEps = 13\n",
    "        self.maxlenOfQueue = 100000\n",
    "        self.numMCTS = 700\n",
    "        self.numItersForTrainExamplesHistory = 20\n",
    "\n",
    "        self.tempThreshold = 15\n",
    "        self.updateThreshold = 0.6\n",
    "\n",
    "        self.ngpu = 0\n",
    "        print(\"cuda:0\" if (torch.cuda.is_available() and self.ngpu > 0) else \"cpu\")\n",
    "        self.device = torch.device(\"cuda:0\" if (torch.cuda.is_available() and self.ngpu > 0) else \"cpu\")\n",
    "\n",
    "        self.checkpoint = './temp/'\n",
    "        self.load_model = True\n",
    "        self.load_folder_file = ('./temp/', 'temp.pth.tar')\n",
    "        self.load_examples = ('./temp/', 'checkpoint.pth.tar')\n",
    "        self.fireplace_log_enabled = True"
   ]
  },
  {
   "cell_type": "code",
   "execution_count": null,
   "id": "e74c295e",
   "metadata": {
    "pycharm": {
     "name": "#%%\n"
    },
    "scrolled": true
   },
   "outputs": [],
   "source": [
    "args = Args()\n",
    "g = Game()\n",
    "nnet = nn(args)\n",
    "\n",
    "if args.load_model:\n",
    "    nnet.load_checkpoint(args.load_folder_file[0], args.load_folder_file[1])\n",
    "\n",
    "c = Coach(g, nnet, args)\n",
    "if args.load_model:\n",
    "    print(\"Load trainExamples from file\")\n",
    "    c.load_train_examples()\n",
    "c.learn()"
   ]
  },
  {
   "cell_type": "code",
   "execution_count": null,
   "id": "6cb3dae5",
   "metadata": {
    "pycharm": {
     "name": "#%%\n"
    }
   },
   "outputs": [],
   "source": []
  }
 ],
 "metadata": {
  "kernelspec": {
   "display_name": "Python 3 (ipykernel)",
   "language": "python",
   "name": "python3"
  },
  "language_info": {
   "codemirror_mode": {
    "name": "ipython",
    "version": 3
   },
   "file_extension": ".py",
   "mimetype": "text/x-python",
   "name": "python",
   "nbconvert_exporter": "python",
   "pygments_lexer": "ipython3",
   "version": "3.10.1"
  }
 },
 "nbformat": 4,
 "nbformat_minor": 5
}
