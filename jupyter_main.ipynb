{
 "cells": [
  {
   "cell_type": "code",
   "execution_count": 1,
   "id": "1db92656",
   "metadata": {},
   "outputs": [],
   "source": [
    "import torch\n",
    "import torch.utils.data"
   ]
  },
  {
   "cell_type": "code",
   "execution_count": 34,
   "id": "3a6690a7",
   "metadata": {},
   "outputs": [],
   "source": [
    "from Coach import Coach\n",
    "from Game import GameImp as Game\n",
    "from NN import NNetWrapper as nn"
   ]
  },
  {
   "cell_type": "code",
   "execution_count": 2,
   "id": "a8cb1b11",
   "metadata": {},
   "outputs": [],
   "source": [
    "class Args:\n",
    "    def __init__(self):\n",
    "        self.n_in = 34 * 16\n",
    "        self.n_out = 21 * 18\n",
    "\n",
    "        self.epochs = 50\n",
    "        self.batch_size = 128\n",
    "        self.lr = 1e-4\n",
    "\n",
    "        self.arenaCompare = 40\n",
    "        self.numIters = 10  # 25\n",
    "        self.numEps = 25\n",
    "        self.maxlenOfQueue = 100000\n",
    "        self.numMCTS = 100  # 1000\n",
    "        self.numItersForTrainExamplesHistory = 20\n",
    "\n",
    "        self.tempThreshold = 15\n",
    "        self.updateThreshold = 0.6\n",
    "\n",
    "        self.ngpu = 0\n",
    "        self.device = torch.device(\"cuda:0\" if (torch.cuda.is_available() and self.ngpu > 0) else \"cpu\")\n",
    "\n",
    "        self.checkpoint = './temp/'\n",
    "        self.load_model = False\n",
    "        self.load_folder_file = ('. / temp / ', 'temp.pth.tar')\n",
    "        self.fireplace_log_enabled = True"
   ]
  },
  {
   "cell_type": "code",
   "execution_count": 35,
   "id": "f02132a9",
   "metadata": {
    "scrolled": true
   },
   "outputs": [
    {
     "name": "stdout",
     "output_type": "stream",
     "text": [
      "------ITER 1------\n"
     ]
    },
    {
     "ename": "KeyboardInterrupt",
     "evalue": "",
     "output_type": "error",
     "traceback": [
      "\u001b[1;31m---------------------------------------------------------------------------\u001b[0m",
      "\u001b[1;31mKeyboardInterrupt\u001b[0m                         Traceback (most recent call last)",
      "Input \u001b[1;32mIn [35]\u001b[0m, in \u001b[0;36m<cell line: 12>\u001b[1;34m()\u001b[0m\n\u001b[0;32m     10\u001b[0m     \u001b[38;5;28mprint\u001b[39m(\u001b[38;5;124m\"\u001b[39m\u001b[38;5;124mLoad trainExamples from file\u001b[39m\u001b[38;5;124m\"\u001b[39m)\n\u001b[0;32m     11\u001b[0m     c\u001b[38;5;241m.\u001b[39mload_train_examples()\n\u001b[1;32m---> 12\u001b[0m \u001b[43mc\u001b[49m\u001b[38;5;241;43m.\u001b[39;49m\u001b[43mlearn\u001b[49m\u001b[43m(\u001b[49m\u001b[43m)\u001b[49m\n",
      "File \u001b[1;32m~\\Documents\\GitHub\\neural-hearthstone\\Coach.py:73\u001b[0m, in \u001b[0;36mCoach.learn\u001b[1;34m(self)\u001b[0m\n\u001b[0;32m     71\u001b[0m \u001b[38;5;28;01mfor\u001b[39;00m eps \u001b[38;5;129;01min\u001b[39;00m \u001b[38;5;28mrange\u001b[39m(\u001b[38;5;28mself\u001b[39m\u001b[38;5;241m.\u001b[39margs\u001b[38;5;241m.\u001b[39mnumEps):\n\u001b[0;32m     72\u001b[0m     \u001b[38;5;28mself\u001b[39m\u001b[38;5;241m.\u001b[39mmcts \u001b[38;5;241m=\u001b[39m MCTS(\u001b[38;5;28mself\u001b[39m\u001b[38;5;241m.\u001b[39mgame, \u001b[38;5;28mself\u001b[39m\u001b[38;5;241m.\u001b[39mnnet, \u001b[38;5;28mself\u001b[39m\u001b[38;5;241m.\u001b[39margs)  \u001b[38;5;66;03m# reset search tree\u001b[39;00m\n\u001b[1;32m---> 73\u001b[0m     iteration_train_examples \u001b[38;5;241m+\u001b[39m\u001b[38;5;241m=\u001b[39m \u001b[38;5;28;43mself\u001b[39;49m\u001b[38;5;241;43m.\u001b[39;49m\u001b[43mexecute_episode\u001b[49m\u001b[43m(\u001b[49m\u001b[43m)\u001b[49m\n\u001b[0;32m     74\u001b[0m     \u001b[38;5;28mprint\u001b[39m(\u001b[38;5;124m\"\u001b[39m\u001b[38;5;124mExecuted \u001b[39m\u001b[38;5;132;01m{}\u001b[39;00m\u001b[38;5;124m eps\u001b[39m\u001b[38;5;124m\"\u001b[39m\u001b[38;5;241m.\u001b[39mformat(eps))\n\u001b[0;32m     75\u001b[0m     \u001b[38;5;66;03m# print(iteration_train_examples)\u001b[39;00m\n",
      "File \u001b[1;32m~\\Documents\\GitHub\\neural-hearthstone\\Coach.py:36\u001b[0m, in \u001b[0;36mCoach.execute_episode\u001b[1;34m(self)\u001b[0m\n\u001b[0;32m     22\u001b[0m \u001b[38;5;124;03m\"\"\"\u001b[39;00m\n\u001b[0;32m     23\u001b[0m \u001b[38;5;124;03mThis function executes one episode of self-play, starting with player 1.\u001b[39;00m\n\u001b[0;32m     24\u001b[0m \u001b[38;5;124;03mAs the game is played, each turn is added as a training example to\u001b[39;00m\n\u001b[1;32m   (...)\u001b[0m\n\u001b[0;32m     33\u001b[0m \u001b[38;5;124;03m                   the player eventually won the game, else -1.\u001b[39;00m\n\u001b[0;32m     34\u001b[0m \u001b[38;5;124;03m\"\"\"\u001b[39;00m\n\u001b[0;32m     35\u001b[0m train_examples \u001b[38;5;241m=\u001b[39m []\n\u001b[1;32m---> 36\u001b[0m current_game \u001b[38;5;241m=\u001b[39m \u001b[38;5;28;43mself\u001b[39;49m\u001b[38;5;241;43m.\u001b[39;49m\u001b[43mgame\u001b[49m\u001b[38;5;241;43m.\u001b[39;49m\u001b[43minit_game\u001b[49m\u001b[43m(\u001b[49m\u001b[43m)\u001b[49m\n\u001b[0;32m     37\u001b[0m \u001b[38;5;28mself\u001b[39m\u001b[38;5;241m.\u001b[39mgame\u001b[38;5;241m.\u001b[39mmulligan_choice()\n\u001b[0;32m     38\u001b[0m \u001b[38;5;28mself\u001b[39m\u001b[38;5;241m.\u001b[39mgame\u001b[38;5;241m.\u001b[39mgame\u001b[38;5;241m.\u001b[39mplayer_to_start \u001b[38;5;241m=\u001b[39m \u001b[38;5;28mself\u001b[39m\u001b[38;5;241m.\u001b[39mgame\u001b[38;5;241m.\u001b[39mgame\u001b[38;5;241m.\u001b[39mcurrent_player\n",
      "File \u001b[1;32m~\\Documents\\GitHub\\neural-hearthstone\\Game.py:18\u001b[0m, in \u001b[0;36mGameImp.init_game\u001b[1;34m(self)\u001b[0m\n\u001b[0;32m     17\u001b[0m \u001b[38;5;28;01mdef\u001b[39;00m \u001b[38;5;21minit_game\u001b[39m(\u001b[38;5;28mself\u001b[39m):\n\u001b[1;32m---> 18\u001b[0m     \u001b[43mcards\u001b[49m\u001b[38;5;241;43m.\u001b[39;49m\u001b[43mdb\u001b[49m\u001b[38;5;241;43m.\u001b[39;49m\u001b[43minitialize\u001b[49m\u001b[43m(\u001b[49m\u001b[43m)\u001b[49m\n\u001b[0;32m     20\u001b[0m     c1 \u001b[38;5;241m=\u001b[39m CardClass(random\u001b[38;5;241m.\u001b[39mrandint(\u001b[38;5;241m2\u001b[39m, \u001b[38;5;241m10\u001b[39m))\n\u001b[0;32m     21\u001b[0m     c2 \u001b[38;5;241m=\u001b[39m CardClass(random\u001b[38;5;241m.\u001b[39mrandint(\u001b[38;5;241m2\u001b[39m, \u001b[38;5;241m10\u001b[39m))\n",
      "File \u001b[1;32m~\\Documents\\GitHub\\neural-hearthstone\\venv\\lib\\site-packages\\fireplace\\cards\\__init__.py:100\u001b[0m, in \u001b[0;36mCardDB.initialize\u001b[1;34m(self, locale)\u001b[0m\n\u001b[0;32m     98\u001b[0m db, xml \u001b[38;5;241m=\u001b[39m cardxml\u001b[38;5;241m.\u001b[39mload(locale\u001b[38;5;241m=\u001b[39mlocale)\n\u001b[0;32m     99\u001b[0m \u001b[38;5;28;01mfor\u001b[39;00m \u001b[38;5;28mid\u001b[39m, card \u001b[38;5;129;01min\u001b[39;00m db\u001b[38;5;241m.\u001b[39mitems():\n\u001b[1;32m--> 100\u001b[0m \t\u001b[38;5;28mself\u001b[39m[\u001b[38;5;28mid\u001b[39m] \u001b[38;5;241m=\u001b[39m \u001b[38;5;28;43mself\u001b[39;49m\u001b[38;5;241;43m.\u001b[39;49m\u001b[43mmerge\u001b[49m\u001b[43m(\u001b[49m\u001b[38;5;28;43mid\u001b[39;49m\u001b[43m,\u001b[49m\u001b[43m \u001b[49m\u001b[43mcard\u001b[49m\u001b[43m)\u001b[49m\n\u001b[0;32m    102\u001b[0m log\u001b[38;5;241m.\u001b[39minfo(\u001b[38;5;124m\"\u001b[39m\u001b[38;5;124mMerged \u001b[39m\u001b[38;5;132;01m%i\u001b[39;00m\u001b[38;5;124m cards\u001b[39m\u001b[38;5;124m\"\u001b[39m, \u001b[38;5;28mlen\u001b[39m(\u001b[38;5;28mself\u001b[39m))\n",
      "File \u001b[1;32m~\\Documents\\GitHub\\neural-hearthstone\\venv\\lib\\site-packages\\fireplace\\cards\\__init__.py:23\u001b[0m, in \u001b[0;36mCardDB.merge\u001b[1;34m(id, card, cardscript)\u001b[0m\n\u001b[0;32m     20\u001b[0m \tcard \u001b[38;5;241m=\u001b[39m cardxml\u001b[38;5;241m.\u001b[39mCardXML(\u001b[38;5;28mid\u001b[39m)\n\u001b[0;32m     22\u001b[0m \u001b[38;5;28;01mif\u001b[39;00m cardscript \u001b[38;5;129;01mis\u001b[39;00m \u001b[38;5;28;01mNone\u001b[39;00m:\n\u001b[1;32m---> 23\u001b[0m \tcardscript \u001b[38;5;241m=\u001b[39m \u001b[43mget_script_definition\u001b[49m\u001b[43m(\u001b[49m\u001b[38;5;28;43mid\u001b[39;49m\u001b[43m)\u001b[49m\n\u001b[0;32m     25\u001b[0m \u001b[38;5;28;01mif\u001b[39;00m cardscript:\n\u001b[0;32m     26\u001b[0m \tcard\u001b[38;5;241m.\u001b[39mscripts \u001b[38;5;241m=\u001b[39m \u001b[38;5;28mtype\u001b[39m(\u001b[38;5;28mid\u001b[39m, (cardscript, ), {})\n",
      "File \u001b[1;32m~\\Documents\\GitHub\\neural-hearthstone\\venv\\lib\\site-packages\\fireplace\\utils.py:107\u001b[0m, in \u001b[0;36mget_script_definition\u001b[1;34m(id)\u001b[0m\n\u001b[0;32m    103\u001b[0m \u001b[38;5;124;03m\"\"\"\u001b[39;00m\n\u001b[0;32m    104\u001b[0m \u001b[38;5;124;03mFind and return the script definition for card \\a id\u001b[39;00m\n\u001b[0;32m    105\u001b[0m \u001b[38;5;124;03m\"\"\"\u001b[39;00m\n\u001b[0;32m    106\u001b[0m \u001b[38;5;28;01mfor\u001b[39;00m cardset \u001b[38;5;129;01min\u001b[39;00m CARD_SETS:\n\u001b[1;32m--> 107\u001b[0m     module \u001b[38;5;241m=\u001b[39m \u001b[43mimport_module\u001b[49m\u001b[43m(\u001b[49m\u001b[38;5;124;43m\"\u001b[39;49m\u001b[38;5;124;43mfireplace.cards.\u001b[39;49m\u001b[38;5;132;43;01m%s\u001b[39;49;00m\u001b[38;5;124;43m\"\u001b[39;49m\u001b[43m \u001b[49m\u001b[38;5;241;43m%\u001b[39;49m\u001b[43m \u001b[49m\u001b[43m(\u001b[49m\u001b[43mcardset\u001b[49m\u001b[43m)\u001b[49m\u001b[43m)\u001b[49m\n\u001b[0;32m    108\u001b[0m     \u001b[38;5;28;01mif\u001b[39;00m \u001b[38;5;28mhasattr\u001b[39m(module, \u001b[38;5;28mid\u001b[39m):\n\u001b[0;32m    109\u001b[0m         \u001b[38;5;28;01mreturn\u001b[39;00m \u001b[38;5;28mgetattr\u001b[39m(module, \u001b[38;5;28mid\u001b[39m)\n",
      "File \u001b[1;32m~\\AppData\\Local\\Programs\\Python\\Python39\\lib\\importlib\\__init__.py:127\u001b[0m, in \u001b[0;36mimport_module\u001b[1;34m(name, package)\u001b[0m\n\u001b[0;32m    125\u001b[0m             \u001b[38;5;28;01mbreak\u001b[39;00m\n\u001b[0;32m    126\u001b[0m         level \u001b[38;5;241m+\u001b[39m\u001b[38;5;241m=\u001b[39m \u001b[38;5;241m1\u001b[39m\n\u001b[1;32m--> 127\u001b[0m \u001b[38;5;28;01mreturn\u001b[39;00m \u001b[43m_bootstrap\u001b[49m\u001b[38;5;241;43m.\u001b[39;49m\u001b[43m_gcd_import\u001b[49m\u001b[43m(\u001b[49m\u001b[43mname\u001b[49m\u001b[43m[\u001b[49m\u001b[43mlevel\u001b[49m\u001b[43m:\u001b[49m\u001b[43m]\u001b[49m\u001b[43m,\u001b[49m\u001b[43m \u001b[49m\u001b[43mpackage\u001b[49m\u001b[43m,\u001b[49m\u001b[43m \u001b[49m\u001b[43mlevel\u001b[49m\u001b[43m)\u001b[49m\n",
      "File \u001b[1;32m<frozen importlib._bootstrap>:1030\u001b[0m, in \u001b[0;36m_gcd_import\u001b[1;34m(name, package, level)\u001b[0m\n",
      "File \u001b[1;32m<frozen importlib._bootstrap>:1004\u001b[0m, in \u001b[0;36m_find_and_load\u001b[1;34m(name, import_)\u001b[0m\n",
      "File \u001b[1;32m<frozen importlib._bootstrap>:157\u001b[0m, in \u001b[0;36m__enter__\u001b[1;34m(self)\u001b[0m\n",
      "File \u001b[1;32m<frozen importlib._bootstrap>:183\u001b[0m, in \u001b[0;36m_get_module_lock\u001b[1;34m(name)\u001b[0m\n",
      "File \u001b[1;32m<frozen importlib._bootstrap>:59\u001b[0m, in \u001b[0;36m__init__\u001b[1;34m(self, name)\u001b[0m\n",
      "\u001b[1;31mKeyboardInterrupt\u001b[0m: "
     ]
    }
   ],
   "source": [
    "args = Args()\n",
    "g = Game()\n",
    "nnet = nn(args)\n",
    "\n",
    "if args.load_model:\n",
    "    nnet.load_checkpoint(args.load_folder_file[0], args.load_folder_file[1])\n",
    "\n",
    "c = Coach(g, nnet, args)\n",
    "if args.load_model:\n",
    "    print(\"Load trainExamples from file\")\n",
    "    c.load_train_examples()\n",
    "c.learn()"
   ]
  },
  {
   "cell_type": "code",
   "execution_count": 28,
   "id": "c1fda24d",
   "metadata": {},
   "outputs": [
    {
     "name": "stdout",
     "output_type": "stream",
     "text": [
      "[[0. 0. 0. 0. 0. 0. 0. 0. 0. 0. 0. 0. 0. 0. 0. 0. 0. 0.]\n",
      " [0. 0. 0. 0. 0. 0. 0. 0. 0. 0. 0. 0. 0. 0. 0. 0. 0. 0.]\n",
      " [0. 0. 0. 0. 0. 0. 0. 0. 0. 0. 0. 0. 0. 0. 0. 0. 0. 0.]\n",
      " [0. 0. 0. 0. 0. 0. 0. 0. 0. 0. 0. 0. 0. 0. 0. 0. 0. 0.]\n",
      " [0. 0. 0. 0. 0. 0. 0. 0. 0. 0. 0. 0. 0. 0. 0. 0. 0. 0.]\n",
      " [0. 0. 0. 0. 0. 0. 0. 0. 0. 0. 0. 0. 0. 0. 0. 0. 0. 0.]\n",
      " [0. 0. 0. 0. 0. 0. 0. 0. 0. 0. 0. 0. 0. 0. 0. 0. 0. 0.]\n",
      " [0. 0. 0. 0. 0. 0. 0. 0. 0. 0. 0. 0. 0. 0. 0. 0. 0. 0.]\n",
      " [0. 0. 0. 0. 0. 0. 0. 0. 0. 0. 0. 0. 0. 0. 0. 0. 0. 0.]\n",
      " [0. 0. 0. 0. 0. 0. 0. 0. 0. 0. 0. 0. 0. 0. 0. 0. 0. 0.]\n",
      " [0. 0. 0. 0. 0. 0. 0. 0. 0. 0. 0. 0. 0. 0. 0. 0. 0. 0.]\n",
      " [0. 0. 0. 0. 0. 0. 0. 0. 0. 0. 0. 0. 0. 0. 0. 0. 0. 0.]\n",
      " [0. 0. 0. 0. 0. 0. 0. 0. 0. 0. 0. 0. 0. 0. 0. 0. 0. 0.]\n",
      " [0. 0. 0. 0. 0. 0. 0. 0. 0. 0. 0. 0. 0. 0. 0. 0. 0. 0.]\n",
      " [0. 0. 0. 0. 0. 0. 0. 0. 0. 0. 0. 0. 0. 0. 0. 0. 0. 0.]\n",
      " [0. 0. 0. 0. 0. 0. 0. 0. 0. 0. 0. 0. 0. 0. 0. 0. 0. 0.]\n",
      " [0. 0. 0. 0. 0. 0. 0. 0. 0. 0. 0. 0. 0. 0. 0. 0. 0. 0.]\n",
      " [0. 0. 0. 0. 0. 0. 0. 0. 0. 0. 0. 0. 0. 0. 0. 0. 0. 0.]\n",
      " [0. 0. 0. 0. 0. 0. 0. 0. 0. 0. 0. 0. 0. 0. 0. 0. 0. 0.]\n",
      " [1. 0. 0. 0. 0. 0. 0. 0. 0. 0. 0. 0. 0. 0. 0. 0. 0. 0.]\n",
      " [0. 0. 0. 0. 0. 0. 0. 0. 0. 0. 0. 0. 0. 0. 0. 0. 0. 0.]]\n"
     ]
    }
   ],
   "source": [
    "game = Game()\n",
    "cur_game = game.init_game()\n",
    "game.mulligan_choice()\n",
    "\n",
    "print(game.get_valid_moves())"
   ]
  },
  {
   "cell_type": "code",
   "execution_count": 33,
   "id": "ca2b79e8",
   "metadata": {},
   "outputs": [
    {
     "name": "stdout",
     "output_type": "stream",
     "text": [
      "InvalidAction\n"
     ]
    }
   ],
   "source": [
    "game.get_action((3,0))"
   ]
  },
  {
   "cell_type": "code",
   "execution_count": null,
   "id": "945d209a",
   "metadata": {},
   "outputs": [],
   "source": []
  }
 ],
 "metadata": {
  "kernelspec": {
   "display_name": "Python 3 (ipykernel)",
   "language": "python",
   "name": "python3"
  },
  "language_info": {
   "codemirror_mode": {
    "name": "ipython",
    "version": 3
   },
   "file_extension": ".py",
   "mimetype": "text/x-python",
   "name": "python",
   "nbconvert_exporter": "python",
   "pygments_lexer": "ipython3",
   "version": "3.9.9"
  }
 },
 "nbformat": 4,
 "nbformat_minor": 5
}
